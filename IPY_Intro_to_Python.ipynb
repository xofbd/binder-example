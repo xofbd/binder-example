{
 "cells": [
  {
   "cell_type": "code",
   "execution_count": null,
   "metadata": {
    "slideshow": null
   },
   "outputs": [],
   "source": [
    "%matplotlib inline\n",
    "import matplotlib\n",
    "import seaborn as sns\n",
    "sns.set()\n",
    "matplotlib.rcParams['figure.dpi'] = 144"
   ]
  },
  {
   "cell_type": "code",
   "execution_count": null,
   "metadata": {
    "slideshow": null
   },
   "outputs": [],
   "source": [
    "import expectexception"
   ]
  },
  {
   "cell_type": "markdown",
   "metadata": {
    "slideshow": null
   },
   "source": [
    "# Python"
   ]
  },
  {
   "cell_type": "markdown",
   "metadata": {
    "slideshow": null
   },
   "source": [
    "[Python](https://www.python.org/) is an open-source, high-level, dynamically-typed general-purpose scripting language.  Its philosophy emphasizes code readability and flexibility, but with one preferred, \"Pythonic\", way to do things. Data science has gravitated towards Python as an implementation language due to its flexibility and large, open-source community. Consider the following motivating reasons to learn Python.\n",
    "\n",
    "* Compared to Java and C, Python is relatively easy to use and learn. The following program written in Java prints a message.\n",
    "```Java\n",
    "public class HelloWorld {\n",
    "    public static void main(String[] args) {\n",
    "        System.out.println(\"Hello World!\")\n",
    "    }\n",
    "}\n",
    "```\n",
    "In Python, it's simply:\n",
    "```Python\n",
    "print(\"Hello World!\")\n",
    "```\n",
    "* Python is a general purpose programming language, unlike R. While we will focus on Python for data science, you can use your Python skills for things such as [web development](https://flask.palletsprojects.com) thanks to Python's many third-party packages.\n",
    "* Python is open-source and free, unlike MATLAB and SAS. There is no need for expensive licensing and open-source nature leads to a larger community of developers.\n",
    "* There is a large collection of mature numerical libraries, primarily [NumPy](http://www.numpy.org/) and [SciPy](https://www.scipy.org/). These packages are the basis of important data science tools such as [pandas](http://pandas.pydata.org/) and [scikit-learn](http://scikit-learn.org/). "
   ]
  },
  {
   "cell_type": "markdown",
   "metadata": {
    "slideshow": null
   },
   "source": [
    "In this notebook, we will:\n",
    "\n",
    "* Cover some of the basic Python syntax.\n",
    "* Learn about the fundamental Python data structures.\n",
    "* Implement for and while loops in Python."
   ]
  },
  {
   "cell_type": "markdown",
   "metadata": {
    "slideshow": null
   },
   "source": [
    "## Basics of writing and executing code"
   ]
  },
  {
   "cell_type": "markdown",
   "metadata": {
    "slideshow": null
   },
   "source": [
    "Python is interpreted, as opposed to compiled. This means that a program called the interpreter turns our Python code into instructions that the processor can execute. We are currently working in an interactive environment (sometimes called a [REPL](https://en.wikipedia.org/wiki/Read%E2%80%93eval%E2%80%93print_loop)) called a [Jupyter](https://jupyter.org/) notebook. The Jupyter notebook has a Python interpreter kernel that will evaluate our code line-by-line. The format of the notebook also allows us to segregate code into blocks (called cells) that can be executed separately."
   ]
  },
  {
   "cell_type": "code",
   "execution_count": null,
   "metadata": {
    "slideshow": null
   },
   "outputs": [],
   "source": [
    "1 + 1"
   ]
  },
  {
   "cell_type": "markdown",
   "metadata": {
    "slideshow": null
   },
   "source": [
    "Since notebooks are interactive, we'll rely heavily on console output.\n",
    "\n",
    "When creating a longer expression, Python follows the standard order of operations."
   ]
  },
  {
   "cell_type": "code",
   "execution_count": null,
   "metadata": {
    "slideshow": null
   },
   "outputs": [],
   "source": [
    "(2 * 6 - 4) / 2"
   ]
  },
  {
   "cell_type": "markdown",
   "metadata": {
    "slideshow": null
   },
   "source": [
    "What does the following evaluate to?"
   ]
  },
  {
   "cell_type": "code",
   "execution_count": null,
   "metadata": {
    "slideshow": null
   },
   "outputs": [],
   "source": [
    "2 * 6 - 4 / 2"
   ]
  },
  {
   "cell_type": "markdown",
   "metadata": {
    "slideshow": null
   },
   "source": [
    "Exponentiation operator is written with two asterisks `**`."
   ]
  },
  {
   "cell_type": "code",
   "execution_count": null,
   "metadata": {
    "slideshow": null
   },
   "outputs": [],
   "source": [
    "2**3"
   ]
  },
  {
   "cell_type": "markdown",
   "metadata": {
    "slideshow": null
   },
   "source": [
    "A modulo calculation operator is `%`. It returns the remainder of a division between the first and second number. "
   ]
  },
  {
   "cell_type": "code",
   "execution_count": null,
   "metadata": {
    "slideshow": null
   },
   "outputs": [],
   "source": [
    "7 % 3"
   ]
  },
  {
   "cell_type": "markdown",
   "metadata": {
    "slideshow": null
   },
   "source": [
    "So far, we have only evaluated one line. If we have several lines, only the last evaluated statement will be displayed as output of a cell."
   ]
  },
  {
   "cell_type": "code",
   "execution_count": null,
   "metadata": {
    "slideshow": null
   },
   "outputs": [],
   "source": [
    "1 + 1\n",
    "2 * 3.5\n",
    "3 / 4"
   ]
  },
  {
   "cell_type": "markdown",
   "metadata": {
    "slideshow": null
   },
   "source": [
    "If we want to inspect results of other statements, we'll need to `print` them. "
   ]
  },
  {
   "cell_type": "code",
   "execution_count": null,
   "metadata": {
    "slideshow": null
   },
   "outputs": [],
   "source": [
    "# Use print function to see all results\n",
    "print(1 + 1)\n",
    "print(2 * 3.5)\n",
    "print(3 / 4)"
   ]
  },
  {
   "cell_type": "markdown",
   "metadata": {
    "slideshow": null
   },
   "source": [
    "Note the `#` symbol marks the line as a **comment**; an annotation or message that helps explain what the code is doing. These comments are ignored by the Python interpreter. Documenting your code is helpful for not only you but for others who may read your code."
   ]
  },
  {
   "cell_type": "markdown",
   "metadata": {
    "slideshow": null
   },
   "source": [
    "### Exercise\n",
    "1. Create a new cell and type the code `600 / 2 / 3`. Before you run it: what should the result be?\n",
    "2. What is the difference between `75 / 2` and `75 // 2`? Use a new cell to find out."
   ]
  },
  {
   "cell_type": "markdown",
   "metadata": {
    "slideshow": null
   },
   "source": [
    "## Variables"
   ]
  },
  {
   "cell_type": "markdown",
   "metadata": {
    "slideshow": null
   },
   "source": [
    "Evaluating input and returning results won't get us very far if there is no way to persist the output. We store information in variables for reference in later lines of code or cells in the notebook. In the example below we use variables to store various pieces of data on a person.\n",
    "\n",
    "The way you can think of a variable is as a **name** attached to a particular **object** which has some **value**. To create a variable, you just pick a name and assign it a value. Assignment is done with a single equals sign `=`. A variable name can consist of letters, numbers, and the underscore character (`_`) but the variable name may **not** start with a number."
   ]
  },
  {
   "cell_type": "code",
   "execution_count": null,
   "metadata": {
    "slideshow": null
   },
   "outputs": [],
   "source": [
    "name = 'Clarissa'\n",
    "account_id = 100045\n",
    "account_balance = 4515.76\n",
    "open_account = True"
   ]
  },
  {
   "cell_type": "markdown",
   "metadata": {
    "slideshow": null
   },
   "source": [
    "It is best practice to use descriptive names for our variables as it helps with fixing problems and makes our code easier to understand and read. One of Python's philosophies is that \"readability counts\" as \"code is read more often than it is written\".\n",
    "\n",
    "Now the variable name can be used in a statement or expression, and its value will be substituted. Let's use the `print` function on our created variables."
   ]
  },
  {
   "cell_type": "code",
   "execution_count": null,
   "metadata": {
    "slideshow": null
   },
   "outputs": [],
   "source": [
    "print('Customer name:', name)\n",
    "print('Account ID:', account_id)\n",
    "print('Account balance:', account_balance)\n",
    "print('Open account?:', open_account)"
   ]
  },
  {
   "cell_type": "markdown",
   "metadata": {
    "slideshow": null
   },
   "source": [
    "Each of the variables we created is a different data type. We can use the `type` function to reveal the data type of a variable."
   ]
  },
  {
   "cell_type": "code",
   "execution_count": null,
   "metadata": {
    "slideshow": null
   },
   "outputs": [],
   "source": [
    "print(type(name))\n",
    "print(type(account_id))\n",
    "print(type(account_balance))\n",
    "print(type(open_account))"
   ]
  },
  {
   "cell_type": "markdown",
   "metadata": {
    "slideshow": null
   },
   "source": [
    "Let's discuss what these data types mean."
   ]
  },
  {
   "cell_type": "markdown",
   "metadata": {
    "slideshow": null
   },
   "source": [
    "* `str`: A string, a sequence of characters, created using either single or double quotes.\n",
    "* `int`: An integer, a whole number.\n",
    "* `float`: A floating point, decimal, number. The decimal place may \"float\" to express both large, `84804.389302`, or small numbers, `0.0002192`.\n",
    "* `bool`: A Boolean, a variable that can only be `True` or `False`."
   ]
  },
  {
   "cell_type": "markdown",
   "metadata": {
    "slideshow": null
   },
   "source": [
    "We'll encounter more complex objects later in the course but the ones illustrated above are some of the most fundamental."
   ]
  },
  {
   "cell_type": "markdown",
   "metadata": {
    "slideshow": null
   },
   "source": [
    "### Exercise\n",
    "1. Update the `account_balance` variable to represent a deduction of $1000.00.\n",
    "1. Create a new variable representing the telephone number of the customer. What should be the appropriate data type to use?"
   ]
  },
  {
   "cell_type": "markdown",
   "metadata": {
    "slideshow": null
   },
   "source": [
    "*Copyright &copy; 2020 Pragmatic Institute. This content is licensed solely for personal use. Redistribution or publication of this material is strictly prohibited.*"
   ]
  }
 ],
 "metadata": {
  "kernelspec": {
   "display_name": "Python 3",
   "language": "python",
   "name": "python3"
  },
  "language_info": {
   "codemirror_mode": {
    "name": "ipython",
    "version": 3
   },
   "file_extension": ".py",
   "mimetype": "text/x-python",
   "name": "python",
   "nbconvert_exporter": "python",
   "pygments_lexer": "ipython3",
   "version": "3.7.5"
  },
  "nbclean": true
 },
 "nbformat": 4,
 "nbformat_minor": 4
}
